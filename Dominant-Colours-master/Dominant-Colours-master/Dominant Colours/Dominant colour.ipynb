{
 "cells": [
  {
   "cell_type": "code",
   "execution_count": 14,
   "metadata": {},
   "outputs": [
    {
     "name": "stdout",
     "output_type": "stream",
     "text": [
      "The below plot shows all of the dominant colours in the image\n"
     ]
    },
    {
     "data": {
      "image/png": "[encoded data removed]",
      "text/plain": [
       "<Figure size 432x288 with 8 Axes>"
      ]
     },
     "metadata": {
      "needs_background": "light"
     },
     "output_type": "display_data"
    }
   ],
   "source": [
    "import numpy as np\n",
    "import cv2\n",
    "from sklearn.cluster import KMeans\n",
    "import matplotlib.pyplot as plt\n",
    "\n",
    "\n",
    "img = cv2.imread('landscape.jpg')\n",
    "img = cv2.cvtColor(img, cv2.COLOR_BGR2RGB)\n",
    "r, c = img.shape[:2]\n",
    "new_r = 120\n",
    "img = cv2.resize(img, (int(new_r * (float(c) / r)), new_r))\n",
    "# print(img.shape)\n",
    "pixels = img.reshape(-1, 3)\n",
    "# print(pixels.shape)\n",
    "\n",
    "km = KMeans(n_clusters=8)\n",
    "km.fit(pixels)\n",
    "colours = np.asarray(km.cluster_centers_, dtype='uint')\n",
    "# print(colours)\n",
    "\n",
    "# to calculate the number of points associated with a particular label\n",
    "per = np.asarray(np.unique(km.labels_, return_counts=True)[1], dtype='float32')\n",
    "per = per / pixels.shape[0]\n",
    "# print(per)\n",
    "\n",
    "\n",
    "for ix in range(colours.shape[0]):\n",
    "    patch = np.ones((20, 20, 3))\n",
    "    patch[:, :, :] = 255 - colours[ix]\n",
    "    plt.subplot(1, 8, ix + 1)\n",
    "    plt.axis('off')\n",
    "    # Cast the image to np.uint8 after scaling [0, 255] range.\n",
    "    plt.imshow((patch * 255).astype(np.uint8))\n",
    "\n",
    "print(\"The below plot shows all of the dominant colours in the image\")    \n"
   ]
  },
  {
   "cell_type": "code",
   "execution_count": 15,
   "metadata": {},
   "outputs": [
    {
     "name": "stdout",
     "output_type": "stream",
     "text": [
      "The below plot shows the Dominance of each colour in comaprison to other colours\n"
     ]
    },
    {
     "data": {
      "image/png": "[encoded data removed]",
      "text/plain": [
       "<Figure size 432x288 with 1 Axes>"
      ]
     },
     "metadata": {
      "needs_background": "light"
     },
     "output_type": "display_data"
    }
   ],
   "source": [
    "\n",
    "dom=[[per[ix],colours[ix]] for ix in range(colours.shape[0])]\n",
    "Dom=sorted(dom, key =lambda z:z[0],reverse=True)\n",
    "\n",
    "plt.figure(0)\n",
    "\n",
    "patch= np.zeros((50,500,3))\n",
    "start=0\n",
    "for ix in range(km.n_clusters):\n",
    "    width = int(Dom[ix][0] * patch.shape[1])\n",
    "    end = start + width\n",
    "    patch[:,start:end,:]=255-Dom[ix][1]\n",
    "    start=end\n",
    "plt.axis('off')\n",
    "plt.imshow((patch * 255).astype(np.uint8))\n",
    "\n",
    "print('The below plot shows the Dominance of each colour in comaprison to other colours')"
   ]
  },
  {
   "cell_type": "code",
   "execution_count": null,
   "metadata": {},
   "outputs": [],
   "source": []
  }
 ],
 "metadata": {
  "kernelspec": {
   "display_name": "Python 3",
   "language": "python",
   "name": "python3"
  },
  "language_info": {
   "codemirror_mode": {
    "name": "ipython",
    "version": 3
   },
   "file_extension": ".py",
   "mimetype": "text/x-python",
   "name": "python",
   "nbconvert_exporter": "python",
   "pygments_lexer": "ipython3",
   "version": "3.7.4"
  }
 },
 "nbformat": 4,
 "nbformat_minor": 2
}
